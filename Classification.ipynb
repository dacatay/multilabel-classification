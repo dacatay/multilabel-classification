{
 "cells": [
  {
   "cell_type": "code",
   "execution_count": 1,
   "metadata": {
    "collapsed": true
   },
   "outputs": [],
   "source": [
    "from main import *"
   ]
  },
  {
   "cell_type": "code",
   "execution_count": null,
   "metadata": {},
   "outputs": [],
   "source": [
    "submission_header = ['id']\n",
    "topics = []\n",
    "\n",
    "with open(r'E:/Python/multilabel-classification/data/topicDictionary.txt', 'r') as topics_file:\n",
    "    for line in topics_file:\n",
    "        line = line.strip('\\n')\n",
    "        submission_header.append(line)\n",
    "        topics.append(line)\n",
    "    topics_file.close()\n",
    "\n",
    "# List directory for training data files\n",
    "dirs = os.listdir(settings.PATH_TRAINING_DATA)\n",
    "\n",
    "# Import json file\n",
    "with open(settings.PATH_TRIMMED_TRAINING_DATA + dirs[0],  'r') as json_file:\n",
    "    data = json.load(json_file)\n",
    "    json_file.close()\n",
    "print(data)"
   ]
  },
  {
   "cell_type": "code",
   "execution_count": null,
   "metadata": {},
   "outputs": [],
   "source": [
    ""
   ]
  }
 ],
 "metadata": {
  "kernelspec": {
   "display_name": "Python 2",
   "language": "python",
   "name": "python2"
  },
  "language_info": {
   "codemirror_mode": {
    "name": "ipython",
    "version": 2.0
   },
   "file_extension": ".py",
   "mimetype": "text/x-python",
   "name": "python",
   "nbconvert_exporter": "python",
   "pygments_lexer": "ipython2",
   "version": "2.7.6"
  }
 },
 "nbformat": 4,
 "nbformat_minor": 0
}